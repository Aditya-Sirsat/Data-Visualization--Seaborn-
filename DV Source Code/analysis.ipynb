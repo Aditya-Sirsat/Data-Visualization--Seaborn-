{
 "cells": [
  {
   "cell_type": "code",
   "execution_count": 66,
   "id": "dc5f489f",
   "metadata": {},
   "outputs": [],
   "source": [
    "import pandas as pd\n",
    "import matplotlib.pyplot as plt\n",
    "import seaborn as sns\n",
    "import os"
   ]
  },
  {
   "cell_type": "code",
   "execution_count": 67,
   "id": "5bc5a7c0",
   "metadata": {},
   "outputs": [],
   "source": [
    "# Load dataset\n",
    "file_path = \"D:\\\\AI and Decentralization Internship\\\\Data Visualization (Seaborn)\\\\Data\\\\exports and imports of india(1997- July 2022) - exports and imports.xlsx\"\n",
    "data = pd.read_excel(file_path, sheet_name=df.sheet_names[0])"
   ]
  },
  {
   "cell_type": "code",
   "execution_count": 68,
   "id": "de0c30bb",
   "metadata": {},
   "outputs": [],
   "source": [
    "# Drop rows with missing key values\n",
    "data = data.dropna(subset=[\"Export\", \"Import\", \"Total Trade\", \"Trade Balance\"])"
   ]
  },
  {
   "cell_type": "code",
   "execution_count": 69,
   "id": "e62f49d3",
   "metadata": {},
   "outputs": [],
   "source": [
    "# Create output folder\n",
    "output_dir = \"D:\\\\AI and Decentralization Internship\\\\Data Visualization (Seaborn)\\\\Plots and Graphs\"\n",
    "os.makedirs(output_dir, exist_ok=True)"
   ]
  },
  {
   "cell_type": "code",
   "execution_count": 70,
   "id": "8e8496cf",
   "metadata": {},
   "outputs": [],
   "source": [
    "# 1. Line plot - Exports vs Imports over years\n",
    "plt.figure(figsize=(10,6))\n",
    "yearly = data.groupby(\"Financial Year(start)\").sum(numeric_only=True)\n",
    "sns.lineplot(x=yearly.index, y=yearly[\"Export\"], label=\"Exports\")\n",
    "sns.lineplot(x=yearly.index, y=yearly[\"Import\"], label=\"Imports\")\n",
    "plt.title(\"India's Exports vs Imports Over Years\")\n",
    "plt.xlabel(\"Year\")\n",
    "plt.ylabel(\"Value (in millions USD)\")\n",
    "plt.legend()\n",
    "plt.savefig(f\"{output_dir}/line_exports_imports.png\")\n",
    "plt.close()"
   ]
  },
  {
   "cell_type": "code",
   "execution_count": 71,
   "id": "e93cdaf1",
   "metadata": {},
   "outputs": [
    {
     "name": "stderr",
     "output_type": "stream",
     "text": [
      "C:\\Users\\Adity\\AppData\\Local\\Temp\\ipykernel_34544\\4014222595.py:4: FutureWarning: \n",
      "\n",
      "Passing `palette` without assigning `hue` is deprecated and will be removed in v0.14.0. Assign the `y` variable to `hue` and set `legend=False` for the same effect.\n",
      "\n",
      "  sns.barplot(x=top_trade.values, y=top_trade.index, palette=\"Blues_r\")\n"
     ]
    }
   ],
   "source": [
    "# Bar plot - Top 10 countries by total trade\n",
    "plt.figure(figsize=(10,6))\n",
    "top_trade = data.groupby(\"Country\")[\"Total Trade\"].sum().nlargest(10)\n",
    "sns.barplot(x=top_trade.values, y=top_trade.index, palette=\"Blues_r\")\n",
    "plt.title(\"Top 10 Countries by Total Trade\")\n",
    "plt.xlabel(\"Total Trade (in millions USD)\")\n",
    "plt.ylabel(\"Country\")\n",
    "plt.savefig(f\"{output_dir}/bar_top_trade.png\")\n",
    "plt.close()"
   ]
  },
  {
   "cell_type": "code",
   "execution_count": 72,
   "id": "12051830",
   "metadata": {},
   "outputs": [],
   "source": [
    "# Bar plot - Top 10 trade surplus countries\n",
    "plt.figure(figsize=(10,6))\n",
    "top_surplus = data.groupby(\"Country\")[\"Trade Balance\"].sum().nlargest(10)\n",
    "sns.barplot(x=top_surplus.values, y=top_surplus.index, color=\"Green\")\n",
    "plt.title(\"Top 10 Trade Surplus Countries\")\n",
    "plt.xlabel(\"Trade Balance (in millions USD)\")\n",
    "plt.savefig(f\"{output_dir}/bar_trade_surplus.png\")\n",
    "plt.close()"
   ]
  },
  {
   "cell_type": "code",
   "execution_count": 73,
   "id": "2657313b",
   "metadata": {},
   "outputs": [
    {
     "name": "stderr",
     "output_type": "stream",
     "text": [
      "C:\\Users\\Adity\\AppData\\Local\\Temp\\ipykernel_34544\\3108827516.py:4: FutureWarning: \n",
      "\n",
      "Passing `palette` without assigning `hue` is deprecated and will be removed in v0.14.0. Assign the `y` variable to `hue` and set `legend=False` for the same effect.\n",
      "\n",
      "  sns.barplot(x=top_deficit.values, y=top_deficit.index, palette=\"Reds_r\")\n"
     ]
    }
   ],
   "source": [
    "# Bar plot - Top 10 trade deficit countries\n",
    "plt.figure(figsize=(10,6))\n",
    "top_deficit = data.groupby(\"Country\")[\"Trade Balance\"].sum().nsmallest(10)\n",
    "sns.barplot(x=top_deficit.values, y=top_deficit.index, palette=\"Reds_r\")\n",
    "plt.title(\"Top 10 Trade Deficit Countries\")\n",
    "plt.xlabel(\"Trade Balance (in millions USD)\")\n",
    "plt.savefig(f\"{output_dir}/bar_trade_deficit.png\")\n",
    "plt.close()"
   ]
  },
  {
   "cell_type": "code",
   "execution_count": 74,
   "id": "93151549",
   "metadata": {},
   "outputs": [],
   "source": [
    "# Box plot - Exports\n",
    "plt.figure(figsize=(8,6))\n",
    "sns.boxplot(y=data[\"Export\"], color=\"skyblue\")\n",
    "plt.title(\"Distribution of Exports Across Countries\")\n",
    "plt.savefig(f\"{output_dir}/box_exports.png\")\n",
    "plt.close()"
   ]
  },
  {
   "cell_type": "code",
   "execution_count": 75,
   "id": "91a38499",
   "metadata": {},
   "outputs": [],
   "source": [
    "# Violin plot - Imports\n",
    "plt.figure(figsize=(8,6))\n",
    "sns.violinplot(y=data[\"Import\"], color=\"orange\")\n",
    "plt.title(\"Distribution of Imports Across Countries\")\n",
    "plt.savefig(f\"{output_dir}/violin_imports.png\")\n",
    "plt.close()"
   ]
  },
  {
   "cell_type": "code",
   "execution_count": 76,
   "id": "719caa8d",
   "metadata": {},
   "outputs": [],
   "source": [
    "# Histogram - Trade Balance\n",
    "plt.figure(figsize=(8,6))\n",
    "sns.histplot(data[\"Trade Balance\"], bins=50, kde=False, color=\"purple\")\n",
    "plt.title(\"Histogram of Trade Balance\")\n",
    "plt.xlabel(\"Trade Balance (in millions USD)\")\n",
    "plt.savefig(f\"{output_dir}/hist_trade_balance.png\")\n",
    "plt.close()"
   ]
  },
  {
   "cell_type": "code",
   "execution_count": 77,
   "id": "73783a56",
   "metadata": {},
   "outputs": [],
   "source": [
    "# KDE Plot - Total Trade\n",
    "plt.figure(figsize=(8,6))\n",
    "sns.kdeplot(x=pd.to_numeric(data[\"Total Trade\"], errors=\"coerce\").dropna(), fill=True, color=\"red\")\n",
    "plt.title(\"KDE Plot of Total Trade\")\n",
    "plt.xlabel(\"Total Trade (in millions USD)\")\n",
    "plt.savefig(f\"{output_dir}/kde_total_trade.png\")\n",
    "plt.close()"
   ]
  },
  {
   "cell_type": "code",
   "execution_count": 78,
   "id": "ffa94416",
   "metadata": {},
   "outputs": [],
   "source": [
    "# Scatter plot - Exports vs Imports\n",
    "plt.figure(figsize=(8,6))\n",
    "sns.scatterplot(x=\"Export\", y=\"Import\", data=data, alpha=0.5)\n",
    "plt.title(\"Scatter Plot: Exports vs Imports\")\n",
    "plt.xlabel(\"Exports\")\n",
    "plt.ylabel(\"Imports\")\n",
    "plt.savefig(f\"{output_dir}/scatter_exports_imports.png\")\n",
    "plt.close()"
   ]
  },
  {
   "cell_type": "code",
   "execution_count": 79,
   "id": "6e20e213",
   "metadata": {},
   "outputs": [],
   "source": [
    "# Pie Chart\n",
    "plt.figure(figsize=(8,8))\n",
    "top_exports = data.groupby(\"Country\")[\"Export\"].sum().nlargest(8)\n",
    "total_exports = data[\"Export\"].sum()\n",
    "others = total_exports - top_exports.sum()\n",
    "pie_data = pd.concat([top_exports, pd.Series([others], index=[\"Others\"])])\n",
    "plt.pie(pie_data,\n",
    "    labels=pie_data.index,\n",
    "    autopct=\"%1.1f%%\",\n",
    "    startangle=140,\n",
    "    wedgeprops=dict(width=0.4))\n",
    "plt.title(\"Exports Share by Top 8 Countries\")\n",
    "plt.savefig(f\"{output_dir}/pie_exports_share.png\")\n",
    "plt.close()\n"
   ]
  }
 ],
 "metadata": {
  "kernelspec": {
   "display_name": "Python 3",
   "language": "python",
   "name": "python3"
  },
  "language_info": {
   "codemirror_mode": {
    "name": "ipython",
    "version": 3
   },
   "file_extension": ".py",
   "mimetype": "text/x-python",
   "name": "python",
   "nbconvert_exporter": "python",
   "pygments_lexer": "ipython3",
   "version": "3.13.5"
  }
 },
 "nbformat": 4,
 "nbformat_minor": 5
}
